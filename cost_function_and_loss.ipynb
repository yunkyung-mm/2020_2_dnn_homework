{
  "nbformat": 4,
  "nbformat_minor": 0,
  "metadata": {
    "colab": {
      "name": "IE01_2019310708.ipynb",
      "provenance": [],
      "collapsed_sections": []
    },
    "kernelspec": {
      "name": "python3",
      "display_name": "Python 3"
    }
  },
  "cells": [
    {
      "cell_type": "code",
      "metadata": {
        "id": "7W9jSpN2QyTe",
        "colab_type": "code",
        "colab": {}
      },
      "source": [
        "import torch\n",
        "import numpy as np \n",
        "import matplotlib.pyplot as plt"
      ],
      "execution_count": 1,
      "outputs": []
    },
    {
      "cell_type": "code",
      "metadata": {
        "id": "GJayMqlJdVRr",
        "colab_type": "code",
        "colab": {
          "base_uri": "https://localhost:8080/",
          "height": 268
        },
        "outputId": "bb8444ce-50ed-41f6-aebe-f8afde14048b"
      },
      "source": [
        "x_data=[7.68,\t9.4,\t10.15,\t10.51,\t11.21,\t12.1,\t12.6,\t13.6,\t15.1,\t15.2,\t17]\n",
        "y_data=[52,\t53,\t58,\t54.89,\t65.46,\t72.7,\t64,\t71.5,\t78.9,\t69.7,\t78]\n",
        "\n",
        "plt.scatter(x_data,y_data)\n",
        "plt.show()"
      ],
      "execution_count": 2,
      "outputs": [
        {
          "output_type": "display_data",
          "data": {
            "image/png": "[encoded data removed]",
            "text/plain": [
              "<Figure size 432x288 with 1 Axes>"
            ]
          },
          "metadata": {
            "tags": [],
            "needs_background": "light"
          }
        }
      ]
    },
    {
      "cell_type": "code",
      "metadata": {
        "id": "afScKcUmRYXQ",
        "colab_type": "code",
        "colab": {}
      },
      "source": [
        "def forward(x):\n",
        "  return x*w+b\n",
        "\n",
        "def loss(x,y):\n",
        "  y_pred=forward(x)\n",
        "  return (y_pred-y)**2\n",
        "\n",
        "def gradient_w(x,y):\n",
        "  return 2*x*(x*w+b-y)\n",
        "\n",
        "def gradient_b(x,y):\n",
        "  return 2*(x*w+b-y)\n"
      ],
      "execution_count": 3,
      "outputs": []
    },
    {
      "cell_type": "code",
      "metadata": {
        "id": "vUC1QpOnRV06",
        "colab_type": "code",
        "colab": {
          "base_uri": "https://localhost:8080/",
          "height": 1000
        },
        "outputId": "ec4bfa60-7add-4d98-85ae-ac9a63a09b16"
      },
      "source": [
        "w_init=1\n",
        "b=0\n",
        "rl=0.001\n",
        "w=w_init\n",
        "for epoch in range(100):\n",
        "  l=0\n",
        "  for x_val,y_val in zip(x_data,y_data):\n",
        "    grad_w = gradient_w(x_val,y_val)\n",
        "    w=w-rl*grad_w\n",
        "    grad_b = gradient_b(x_val,y_val)\n",
        "    b=b-rl*grad_b\n",
        "    l=l+loss(x_val, y_val)\n",
        "  mse=l/len(x_data)\n",
        "  print(\"progress:\", epoch, \"w=\", w, \"mse=\", mse)\n",
        "w_last=w"
      ],
      "execution_count": 4,
      "outputs": [
        {
          "output_type": "stream",
          "text": [
            "progress: 0 w= 4.681793600941943 mse= 376.88555087306764\n",
            "progress: 1 w= 4.724974424629168 mse= 32.98437084665576\n",
            "progress: 2 w= 4.723154954511982 mse= 31.4416024959839\n",
            "progress: 3 w= 4.72078183670626 mse= 31.360676904844187\n",
            "progress: 4 w= 4.718404794211958 mse= 31.297550226058032\n",
            "progress: 5 w= 4.716030622498594 mse= 31.234808540883137\n",
            "progress: 6 w= 4.713659401984007 mse= 31.17223639461431\n",
            "progress: 7 w= 4.711291130037199 mse= 31.109830703017327\n",
            "progress: 8 w= 4.708925803004513 mse= 31.047591006099683\n",
            "progress: 9 w= 4.706563417224148 mse= 30.985516877348633\n",
            "progress: 10 w= 4.704203969038695 mse= 30.923607891727546\n",
            "progress: 11 w= 4.701847454795299 mse= 30.86186362527803\n",
            "progress: 12 w= 4.69949387084564 mse= 30.800283655111922\n",
            "progress: 13 w= 4.697143213545938 mse= 30.738867559409343\n",
            "progress: 14 w= 4.694795479256942 mse= 30.677614917415212\n",
            "progress: 15 w= 4.692450664343928 mse= 30.616525309437147\n",
            "progress: 16 w= 4.690108765176693 mse= 30.555598316842477\n",
            "progress: 17 w= 4.687769778129544 mse= 30.4948335220558\n",
            "progress: 18 w= 4.6854336995813 mse= 30.434230508556166\n",
            "progress: 19 w= 4.6831005259152825 mse= 30.373788860874537\n",
            "progress: 20 w= 4.680770253519307 mse= 30.313508164591063\n",
            "progress: 21 w= 4.6784428787856855 mse= 30.253388006332685\n",
            "progress: 22 w= 4.676118398111213 mse= 30.193427973770103\n",
            "progress: 23 w= 4.673796807897167 mse= 30.133627655615634\n",
            "progress: 24 w= 4.671478104549298 mse= 30.07398664162007\n",
            "progress: 25 w= 4.669162284477826 mse= 30.014504522570736\n",
            "progress: 26 w= 4.666849344097437 mse= 29.955180890288304\n",
            "progress: 27 w= 4.664539279827274 mse= 29.896015337624497\n",
            "progress: 28 w= 4.66223208809093 mse= 29.83700745845931\n",
            "progress: 29 w= 4.659927765316451 mse= 29.77815684769887\n",
            "progress: 30 w= 4.657626307936321 mse= 29.71946310127221\n",
            "progress: 31 w= 4.65532771238746 mse= 29.660925816129247\n",
            "progress: 32 w= 4.653031975111218 mse= 29.602544590237972\n",
            "progress: 33 w= 4.6507390925533745 mse= 29.54431902258209\n",
            "progress: 34 w= 4.648449061164123 mse= 29.486248713158115\n",
            "progress: 35 w= 4.646161877398075 mse= 29.428333262973265\n",
            "progress: 36 w= 4.64387753771425 mse= 29.37057227404264\n",
            "progress: 37 w= 4.641596038576068 mse= 29.312965349386822\n",
            "progress: 38 w= 4.639317376451351 mse= 29.2555120930292\n",
            "progress: 39 w= 4.63704154781231 mse= 29.198212109993722\n",
            "progress: 40 w= 4.634768549135543 mse= 29.14106500630223\n",
            "progress: 41 w= 4.6324983769020305 mse= 29.084070388971824\n",
            "progress: 42 w= 4.630231027597128 mse= 29.027227866012694\n",
            "progress: 43 w= 4.627966497710563 mse= 28.970537046425388\n",
            "progress: 44 w= 4.625704783736427 mse= 28.913997540198327\n",
            "progress: 45 w= 4.6234458821731685 mse= 28.857608958305434\n",
            "progress: 46 w= 4.621189789523593 mse= 28.80137091270368\n",
            "progress: 47 w= 4.618936502294856 mse= 28.745283016330657\n",
            "progress: 48 w= 4.616686016998454 mse= 28.689344883101725\n",
            "progress: 49 w= 4.61443833015022 mse= 28.633556127908022\n",
            "progress: 50 w= 4.612193438270324 mse= 28.5779163666142\n",
            "progress: 51 w= 4.609951337883257 mse= 28.522425216055016\n",
            "progress: 52 w= 4.607712025517838 mse= 28.46708229403405\n",
            "progress: 53 w= 4.6054754977072 mse= 28.411887219320626\n",
            "progress: 54 w= 4.603241750988785 mse= 28.3568396116473\n",
            "progress: 55 w= 4.601010781904343 mse= 28.30193909170803\n",
            "progress: 56 w= 4.598782586999922 mse= 28.24718528115521\n",
            "progress: 57 w= 4.59655716282587 mse= 28.19257780259754\n",
            "progress: 58 w= 4.594334505936817 mse= 28.13811627959745\n",
            "progress: 59 w= 4.5921146128916845 mse= 28.083800336668958\n",
            "progress: 60 w= 4.5898974802536685 mse= 28.029629599275054\n",
            "progress: 61 w= 4.58768310459024 mse= 27.975603693825533\n",
            "progress: 62 w= 4.585471482473137 mse= 27.921722247674357\n",
            "progress: 63 w= 4.583262610478364 mse= 27.867984889117455\n",
            "progress: 64 w= 4.5810564851861795 mse= 27.814391247390457\n",
            "progress: 65 w= 4.578853103181097 mse= 27.760940952666157\n",
            "progress: 66 w= 4.576652461051874 mse= 27.707633636052197\n",
            "progress: 67 w= 4.5744545553915135 mse= 27.654468929588823\n",
            "progress: 68 w= 4.572259382797252 mse= 27.60144646624642\n",
            "progress: 69 w= 4.57006693987056 mse= 27.548565879923384\n",
            "progress: 70 w= 4.567877223217131 mse= 27.49582680544341\n",
            "progress: 71 w= 4.565690229446882 mse= 27.443228878553626\n",
            "progress: 72 w= 4.5635059551739445 mse= 27.390771735922012\n",
            "progress: 73 w= 4.56132439701666 mse= 27.338455015135143\n",
            "progress: 74 w= 4.559145551597575 mse= 27.286278354695877\n",
            "progress: 75 w= 4.556969415543437 mse= 27.234241394021183\n",
            "progress: 76 w= 4.554795985485185 mse= 27.18234377343949\n",
            "progress: 77 w= 4.552625258057952 mse= 27.13058513418901\n",
            "progress: 78 w= 4.550457229901051 mse= 27.07896511841476\n",
            "progress: 79 w= 4.548291897657976 mse= 27.027483369166898\n",
            "progress: 80 w= 4.5461292579763946 mse= 26.976139530398015\n",
            "progress: 81 w= 4.543969307508144 mse= 26.92493324696122\n",
            "progress: 82 w= 4.541812042909222 mse= 26.87386416460743\n",
            "progress: 83 w= 4.539657460839787 mse= 26.822931929983667\n",
            "progress: 84 w= 4.537505557964149 mse= 26.77213619063042\n",
            "progress: 85 w= 4.535356330950768 mse= 26.721476594979585\n",
            "progress: 86 w= 4.533209776472244 mse= 26.670952792352054\n",
            "progress: 87 w= 4.5310658912053166 mse= 26.620564432955778\n",
            "progress: 88 w= 4.528924671830858 mse= 26.57031116788327\n",
            "progress: 89 w= 4.526786115033863 mse= 26.520192649109493\n",
            "progress: 90 w= 4.524650217503456 mse= 26.470208529489692\n",
            "progress: 91 w= 4.5225169759328745 mse= 26.420358462756955\n",
            "progress: 92 w= 4.520386387019467 mse= 26.37064210352055\n",
            "progress: 93 w= 4.518258447464691 mse= 26.321059107262954\n",
            "progress: 94 w= 4.5161331539741045 mse= 26.271609130338444\n",
            "progress: 95 w= 4.514010503257362 mse= 26.222291829970377\n",
            "progress: 96 w= 4.511890492028209 mse= 26.173106864249142\n",
            "progress: 97 w= 4.509773117004479 mse= 26.1240538921302\n",
            "progress: 98 w= 4.507658374908086 mse= 26.075132573431564\n",
            "progress: 99 w= 4.505546262465021 mse= 26.026342568831918\n"
          ],
          "name": "stdout"
        }
      ]
    },
    {
      "cell_type": "markdown",
      "metadata": {
        "id": "Y8k6c-SQfL8z",
        "colab_type": "text"
      },
      "source": [
        "## Draw the cost graph for my dataset"
      ]
    },
    {
      "cell_type": "code",
      "metadata": {
        "id": "rbbafTO_JNQH",
        "colab_type": "code",
        "colab": {
          "base_uri": "https://localhost:8080/",
          "height": 279
        },
        "outputId": "1980b12e-6862-49f9-9ffe-f8cdf7b689a7"
      },
      "source": [
        "w_list=[]\n",
        "mse_list=[]\n",
        "for w in np.arange(w_init,w_last+abs(w_init-w_last),0.01):\n",
        "  l_sum=0\n",
        "  for x_val,y_val in zip(x_data,y_data):\n",
        "    y_pred_val=forward(x_val)\n",
        "    l=loss(x_val,y_val)\n",
        "    l_sum+=l\n",
        "  mse=l/len(x_data)\n",
        "  w_list.append(w)\n",
        "  mse_list.append(mse)\n",
        "plt.plot(w_list, mse_list)\n",
        "plt.ylabel('Loss')\n",
        "plt.xlabel('w')\n",
        "plt.show()\n"
      ],
      "execution_count": 5,
      "outputs": [
        {
          "output_type": "display_data",
          "data": {
            "image/png": "[encoded data removed]",
            "text/plain": [
              "<Figure size 432x288 with 1 Axes>"
            ]
          },
          "metadata": {
            "tags": [],
            "needs_background": "light"
          }
        }
      ]
    },
    {
      "cell_type": "markdown",
      "metadata": {
        "id": "rn89iTmRXB7D",
        "colab_type": "text"
      },
      "source": [
        "### Exercise 3-1 : compute gradient and implement\n",
        "\n",
        "\n",
        "$\\hat{y}=x^2w_2+xw_1+b$\n",
        "\n",
        "$loss=(\\hat{y}-y)^2$\n",
        "\n",
        "$\\frac{\\partial loss}{\\partial w_1} = 2x(x^2w_2+xw_1+b-y)$\n",
        "\n",
        "$\\frac{\\partial loss}{\\partial w_2} = 2x^2(x^2w_2+xw_1+b-y)$"
      ]
    },
    {
      "cell_type": "code",
      "metadata": {
        "id": "QUrudfmoXAav",
        "colab_type": "code",
        "colab": {}
      },
      "source": [
        "def forward(x):\n",
        "  return (x**2)*w2+x*w1+b\n",
        "\n",
        "def loss(x,y):\n",
        "  y_pred=forward(x)\n",
        "  return (y_pred-y)**2\n",
        "\n",
        "def gradient_w1(x,y):\n",
        "  return 2*x*((x**2)*w2+x*w1+b-y)\n",
        "\n",
        "def gradient_w2(x,y):\n",
        "  return 2*(x**2)*((x**2)*w2+x*w1+b-y)\n",
        "\n",
        "def gradient_b(x,y):\n",
        "  return 2*((x**2)*w2+x*w1+b-y)"
      ],
      "execution_count": 6,
      "outputs": []
    },
    {
      "cell_type": "code",
      "metadata": {
        "id": "fnqlSdV_lRJD",
        "colab_type": "code",
        "colab": {}
      },
      "source": [
        "x_data=[1,2,3]\n",
        "y_data=[1,4,9]"
      ],
      "execution_count": 7,
      "outputs": []
    },
    {
      "cell_type": "code",
      "metadata": {
        "id": "64G-eGv2gEVP",
        "colab_type": "code",
        "colab": {
          "base_uri": "https://localhost:8080/",
          "height": 1000
        },
        "outputId": "54d23ce4-d557-42e7-acf3-d7392a79455c"
      },
      "source": [
        "w1_init=0\n",
        "w2_init=0\n",
        "b=0\n",
        "rl=0.01\n",
        "w1=w1_init\n",
        "w2=w2_init\n",
        "print(\"predict (before training)\", 4, forward(4))\n",
        "for epoch in range(100):\n",
        "  l=0\n",
        "  for x_val,y_val in zip(x_data,y_data):\n",
        "    grad_w1 = gradient_w1(x_val,y_val)\n",
        "    w1=w1-rl*grad_w1\n",
        "    \n",
        "    grad_w2 = gradient_w2(x_val,y_val)\n",
        "    w2=w2-rl*grad_w2\n",
        "    \n",
        "    grad_b = gradient_b(x_val,y_val)\n",
        "    b=b-rl*grad_b\n",
        "    l=l+loss(x_val, y_val)\n",
        "  mse=l/len(x_data)\n",
        "  print(\"progress:\", epoch, \"w1=\", w1, \"w2=\", w2,\"mse=\", mse)\n",
        "print(\"predict (after training)\", 4, forward(4))\n"
      ],
      "execution_count": 8,
      "outputs": [
        {
          "output_type": "stream",
          "text": [
            "predict (before training) 4 0\n",
            "progress: 0 w1= 0.51494349502976 w2= 1.1413736761732096 mse= 4.828439343403701\n",
            "progress: 1 w1= 0.35386122896165295 w2= 0.802365656066029 mse= 0.5929006152751471\n",
            "progress: 2 w1= 0.3957702804020494 w2= 0.9071366011821413 mse= 0.04574521546736183\n",
            "progress: 3 w1= 0.3770737415139017 w2= 0.8787056235365593 mse= 0.04116087656882072\n",
            "progress: 4 w1= 0.3768039212536082 w2= 0.8900938005473946 mse= 0.024978588485791608\n",
            "progress: 5 w1= 0.3712514268542161 w2= 0.8894234359878183 mse= 0.02536465575623387\n",
            "progress: 6 w1= 0.3675158297572231 w2= 0.8922556591153588 mse= 0.02240188584313861\n",
            "progress: 7 w1= 0.3634586171060323 w2= 0.8939289250415675 mse= 0.02073680840399949\n",
            "progress: 8 w1= 0.3597118409814834 w2= 0.8958455469068148 mse= 0.01891886839467349\n",
            "progress: 9 w1= 0.35607714100316284 w2= 0.8975893203770191 mse= 0.017339258667312965\n",
            "progress: 10 w1= 0.35260553196440375 w2= 0.8992891715622375 mse= 0.01586873555468975\n",
            "progress: 11 w1= 0.349273599405126 w2= 0.9009103915270225 mse= 0.014529733755906516\n",
            "progress: 12 w1= 0.3460805824703884 w2= 0.9024671765307346 mse= 0.013302327625029765\n",
            "progress: 13 w1= 0.3430192484383196 w2= 0.9039589015994731 mse= 0.012179880935045724\n",
            "progress: 14 w1= 0.34008461314745086 w2= 0.905389236235798 mse= 0.011152947359664366\n",
            "progress: 15 w1= 0.3372713133498758 w2= 0.9067604184912738 mse= 0.010213818052329862\n",
            "progress: 16 w1= 0.33457438246708376 w2= 0.9080749778953254 mse= 0.009355138099249932\n",
            "progress: 17 w1= 0.33198900629066247 w2= 0.909335224495904 mse= 0.008570234992061365\n",
            "progress: 18 w1= 0.3295105850426732 w2= 0.910543407528097 mse= 0.007852960332892315\n",
            "progress: 19 w1= 0.32713470403182726 w2= 0.9117016730605496 mse= 0.007197676720573341\n",
            "progress: 20 w1= 0.3248571321614396 w2= 0.9128120817055533 mse= 0.006599207636156825\n",
            "progress: 21 w1= 0.32267381251031874 w2= 0.91387660811148 mse= 0.006052802343044714\n",
            "progress: 22 w1= 0.3205808556978477 w2= 0.9148971457198253 mse= 0.005554100486307356\n",
            "progress: 23 w1= 0.3185745328045382 w2= 0.9158755097535652 mse= 0.005099100471099278\n",
            "progress: 24 w1= 0.31665126880012473 w2= 0.9168134405536953 mse= 0.004684130147511559\n",
            "progress: 25 w1= 0.3148076361782643 w2= 0.9177126066366964 mse= 0.004305819950585321\n",
            "progress: 26 w1= 0.31304034887327586 w2= 0.9185746076682296 mse= 0.003961078200055383\n",
            "progress: 27 w1= 0.31134625642210373 w2= 0.9194009773014036 mse= 0.003647068412606457\n",
            "progress: 28 w1= 0.3097223383689356 w2= 0.9201931859017327 mse= 0.003361188455576336\n",
            "progress: 29 w1= 0.30816569890019657 w2= 0.9209526431584996 mse= 0.0031010513951758834\n",
            "progress: 30 w1= 0.30667356170109433 w2= 0.9216807005887049 mse= 0.002864467901225036\n",
            "progress: 31 w1= 0.30524326502436494 w2= 0.9223786539375817 mse= 0.0026494300824280934\n",
            "progress: 32 w1= 0.3038722569625278 w2= 0.9230477454800834 mse= 0.0024540966361608512\n",
            "progress: 33 w1= 0.30255809091523156 w2= 0.9236891662273896 mse= 0.0022767792062084002\n",
            "progress: 34 w1= 0.3012984212436449 w2= 0.9243040580423583 mse= 0.0021159298504962276\n",
            "progress: 35 w1= 0.3000909991041745 w2= 0.9248935156676833 mse= 0.0019701295287952235\n",
            "progress: 36 w1= 0.29893366845410824 w2= 0.9254585886703576 mse= 0.0018380775276679445\n",
            "progress: 37 w1= 0.2978243622220897 w2= 0.9260002833058953 mse= 0.0017185817466230805\n",
            "progress: 38 w1= 0.2967610986366219 w2= 0.926519564305624 mse= 0.0016105497756007784\n",
            "progress: 39 w1= 0.2957419777060805 w2= 0.9270173565902261 mse= 0.001512980699574168\n",
            "progress: 40 w1= 0.2947651778439811 w2= 0.9274945469125657 mse= 0.0014249575712485553\n",
            "progress: 41 w1= 0.2938289526335087 w2= 0.9279519854327217 mse= 0.001345640497622822\n",
            "progress: 42 w1= 0.29293162772556414 w2= 0.9283904872280307 mse= 0.001274260290572967\n",
            "progress: 43 w1= 0.29207159786481307 w2= 0.9288108337408097 mse= 0.0012101126356503617\n",
            "progress: 44 w1= 0.2912473240384607 w2= 0.9292137741663424 mse= 0.001152552737004176\n",
            "progress: 45 w1= 0.2904573307426837 w2= 0.9296000267835872 mse= 0.0011009903997439448\n",
            "progress: 46 w1= 0.28970020336186536 w2= 0.9299702802309681 mse= 0.001054885514195611\n",
            "progress: 47 w1= 0.28897458565598183 w2= 0.9303251947295271 mse= 0.0010137439093846816\n",
            "progress: 48 w1= 0.28827917735167075 w2= 0.9306654032555942 mse= 0.0009771135457279552\n",
            "progress: 49 w1= 0.28761273183270925 w2= 0.9309915126650702 mse= 0.0009445810193483977\n",
            "progress: 50 w1= 0.2869740539257952 w2= 0.9313041047713115 mse= 0.0009157683526651836\n",
            "progress: 51 w1= 0.28636199777770255 w2= 0.9316037373785393 mse= 0.0008903300479667068\n",
            "progress: 52 w1= 0.2857754648200363 w2= 0.931890945272601 mse= 0.0008679503825610061\n",
            "progress: 53 w1= 0.28521340181797383 w2= 0.932166241170846 mse= 0.0008483409258377106\n",
            "progress: 54 w1= 0.2846747989995291 w2= 0.932430116632808 mse= 0.0008312382601683849\n",
            "progress: 55 w1= 0.28415868826201146 w2= 0.9326830429333011 mse= 0.0008164018890394351\n",
            "progress: 56 w1= 0.28366414145250046 w2= 0.9329254718994924 mse= 0.0008036123171600074\n",
            "progress: 57 w1= 0.2831902687192759 w2= 0.9331578367134293 mse= 0.0007926692885242519\n",
            "progress: 58 w1= 0.2827362169312784 w2= 0.9333805526814489 mse= 0.0007833901695471997\n",
            "progress: 59 w1= 0.28230116816279377 w2= 0.9335940179718377 mse= 0.0007756084654374773\n",
            "progress: 60 w1= 0.2818843382406674 w2= 0.9337986143220525 mse= 0.0007691724589333347\n",
            "progress: 61 w1= 0.2814849753514692 w2= 0.9339947077167543 mse= 0.0007639439614100222\n",
            "progress: 62 w1= 0.2811023587061366 w2= 0.9341826490378655 mse= 0.000759797167179439\n",
            "progress: 63 w1= 0.2807357972597206 w2= 0.9343627746877985 mse= 0.0007566176025483261\n",
            "progress: 64 w1= 0.2803846284839647 w2= 0.934535407186969 mse= 0.0007543011618870474\n",
            "progress: 65 w1= 0.2800482171905328 w2= 0.9347008557466496 mse= 0.0007527532235906612\n",
            "progress: 66 w1= 0.27972595440280035 w2= 0.9348594168181883 mse= 0.0007518878393935438\n",
            "progress: 67 w1= 0.27941725627419917 w2= 0.9350113746195573 mse= 0.0007516269910296172\n",
            "progress: 68 w1= 0.27912156305119984 w2= 0.9351570016401773 mse= 0.0007518999087198279\n",
            "progress: 69 w1= 0.27883833807908787 w2= 0.9352965591249082 mse= 0.000752642446417981\n",
            "progress: 70 w1= 0.27856706684876614 w2= 0.9354302975380678 mse= 0.0007537965091574933\n",
            "progress: 71 w1= 0.27830725608289375 w2= 0.9355584570083022 mse= 0.0007553095282223518\n",
            "progress: 72 w1= 0.27805843285973464 w2= 0.9356812677550979 mse= 0.000757133980212829\n",
            "progress: 73 w1= 0.27782014377316233 w2= 0.9357989504976936 mse= 0.0007592269463975251\n",
            "progress: 74 w1= 0.2775919541273283 w2= 0.9359117168471174 mse= 0.0007615497090366959\n",
            "progress: 75 w1= 0.27737344716456275 w2= 0.9360197696820483 mse= 0.0007640673816337114\n",
            "progress: 76 w1= 0.27716422332513674 w2= 0.9361233035091638 mse= 0.0007667485703171626\n",
            "progress: 77 w1= 0.2769638995375708 w2= 0.9362225048086193 mse= 0.0007695650637871086\n",
            "progress: 78 w1= 0.27677210853823164 w2= 0.9363175523652744 mse= 0.0007724915494675645\n",
            "progress: 79 w1= 0.2765884982190025 w2= 0.9364086175862409 mse= 0.0007755053536984453\n",
            "progress: 80 w1= 0.27641273100187697 w2= 0.9364958648053395 mse= 0.0007785862039804986\n",
            "progress: 81 w1= 0.2762444832393578 w2= 0.9365794515749839 mse= 0.0007817160114457273\n",
            "progress: 82 w1= 0.27608344463959994 w2= 0.9366595289460216 mse= 0.0007848786718777558\n",
            "progress: 83 w1= 0.27592931771527557 w2= 0.9367362417360297 mse= 0.000788059883742595\n",
            "progress: 84 w1= 0.275781817255183 w2= 0.9368097287865369 mse= 0.0007912469818167209\n",
            "progress: 85 w1= 0.2756406698176586 w2= 0.93688012320963 mse= 0.0007944287851150205\n",
            "progress: 86 w1= 0.2755056132448949 w2= 0.9369475526243876 mse= 0.0007975954579277322\n",
            "progress: 87 w1= 0.27537639619730103 w2= 0.9370121393835537 mse= 0.0008007383828729152\n",
            "progress: 88 w1= 0.2752527777070761 w2= 0.9370740007908567 mse= 0.0008038500449609179\n",
            "progress: 89 w1= 0.27513452675020844 w2= 0.9371332493093658 mse= 0.0008069239257502444\n",
            "progress: 90 w1= 0.2750214218361333 w2= 0.9371899927612435 mse= 0.0008099544067487308\n",
            "progress: 91 w1= 0.274913250614326 w2= 0.9372443345192581 mse= 0.0008129366812847447\n",
            "progress: 92 w1= 0.27480980949712785 w2= 0.9372963736903922 mse= 0.0008158666741363967\n",
            "progress: 93 w1= 0.27471090329813824 w2= 0.9373462052918755 mse= 0.0008187409682655077\n",
            "progress: 94 w1= 0.27461634488552755 w2= 0.9373939204199525 mse= 0.0008215567380568232\n",
            "progress: 95 w1= 0.2745259548496565 w2= 0.9374396064116859 mse= 0.000824311688512725\n",
            "progress: 96 w1= 0.2744395611844121 w2= 0.9374833470000826 mse= 0.0008270039998991602\n",
            "progress: 97 w1= 0.27435699898169413 w2= 0.9375252224628202 mse= 0.0008296322773797099\n",
            "progress: 98 w1= 0.274278110138507 w2= 0.9375653097648338 mse= 0.0008321955052136595\n",
            "progress: 99 w1= 0.2742027430761411 w2= 0.93760368269502 mse= 0.0008346930051287485\n",
            "predict (after training) 4 15.848534072605247\n"
          ],
          "name": "stdout"
        }
      ]
    }
  ]
}